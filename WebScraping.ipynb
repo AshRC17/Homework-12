{
 "cells": [
  {
   "cell_type": "code",
   "execution_count": 7,
   "metadata": {},
   "outputs": [],
   "source": [
    "# Dependencies\n",
    "from bs4 import BeautifulSoup as bs\n",
    "import pandas as pd\n",
    "import requests\n",
    "from splinter import Browser"
   ]
  },
  {
   "cell_type": "code",
   "execution_count": 9,
   "metadata": {},
   "outputs": [],
   "source": [
    "nm_url = \"https://mars.nasa.gov/news/\"\n",
    "nm_base_url = \"https://mars.nasa.gov\""
   ]
  },
  {
   "cell_type": "code",
   "execution_count": 10,
   "metadata": {},
   "outputs": [],
   "source": [
    "nm_response = requests.get(nm_url)"
   ]
  },
  {
   "cell_type": "code",
   "execution_count": 11,
   "metadata": {},
   "outputs": [],
   "source": [
    "nm_soup = bs(nm_response.text, 'html.parser')"
   ]
  },
  {
   "cell_type": "code",
   "execution_count": 12,
   "metadata": {
    "tags": [
     "outputPrepend"
    ]
   },
   "outputs": [
    {
     "output_type": "stream",
     "name": "stdout",
     "text": "uot;:&quot;&quot;},&quot;highlight_current&quot;:{&quot;highlight&quot;:true,&quot;current_id&quot;:83,&quot;parent_ids&quot;:[]},&quot;search_submit&quot;:&quot;/search/&quot;}\">\n         </nav>\n        </div>\n       </div>\n      </div>\n     </header>\n    </div>\n    <div id=\"sticky_nav_spacer\">\n    </div>\n    <div id=\"page\">\n     <div class=\"page_cover\">\n     </div>\n     <!-- title to go in the page_header -->\n     <div class=\"header_mask\">\n      <section class=\"content_page module\">\n      </section>\n     </div>\n     <div class=\"grid_list_page module content_page\">\n      <div class=\"grid_layout\">\n       <article>\n        <header id=\"page_header\">\n        </header>\n        <div class=\"react_grid_list grid_list_container\" data-react-cache-id=\"GridListPage-0\" data-react-class=\"GridListPage\" data-react-props='{\"left_column\":false,\"class_name\":\"\",\"default_view\":\"list_view\",\"model\":\"news_items\",\"view_toggle\":false,\"search\":\"true\",\"list_item\":\"News\",\"title\":\"News\",\"categories\":[\"19,165,184,204\"],\"order\":\"publish_date desc,created_at desc\",\"no_items_text\":\"There are no items matching these criteria.\",\"site_title\":\"NASA’s Mars Exploration Program \",\"short_title\":\"Mars\",\"site_share_image\":\"/system/site_config_values/meta_share_images/1_142497main_PIA03154-200.jpg\",\"per_page\":null,\"filters\":\"[ [ \\\"date\\\", [ [ \\\"2020\\\", \\\"2020\\\" ], [ \\\"2019\\\", \\\"2019\\\" ], [ \\\"2018\\\", \\\"2018\\\" ], [ \\\"2017\\\", \\\"2017\\\" ], [ \\\"2016\\\", \\\"2016\\\" ], [ \\\"2015\\\", \\\"2015\\\" ], [ \\\"2014\\\", \\\"2014\\\" ], [ \\\"2013\\\", \\\"2013\\\" ], [ \\\"2012\\\", \\\"2012\\\" ], [ \\\"2011\\\", \\\"2011\\\" ], [ \\\"2010\\\", \\\"2010\\\" ], [ \\\"2009\\\", \\\"2009\\\" ], [ \\\"2008\\\", \\\"2008\\\" ], [ \\\"2007\\\", \\\"2007\\\" ], [ \\\"2006\\\", \\\"2006\\\" ], [ \\\"2005\\\", \\\"2005\\\" ], [ \\\"2004\\\", \\\"2004\\\" ], [ \\\"2003\\\", \\\"2003\\\" ], [ \\\"2002\\\", \\\"2002\\\" ], [ \\\"2001\\\", \\\"2001\\\" ], [ \\\"2000\\\", \\\"2000\\\" ] ], [ \\\"Latest\\\", \\\"\\\" ], false ], [ \\\"categories\\\", [ [ \\\"Feature Stories\\\", 165 ], [ \\\"Press Releases\\\", 19 ], [ \\\"Spotlights\\\", 184 ], [ \\\"Status Reports\\\", 204 ] ], [ \\\"All Categories\\\", \\\"\\\" ], false ] ]\",\"conditions\":null,\"scope_in_title\":true,\"options\":{\"blank_scope\":\"Latest\"},\"results_in_title\":false}'>\n        </div>\n       </article>\n      </div>\n     </div>\n     <section class=\"module suggested_features\">\n      <div class=\"grid_layout\">\n       <header>\n        <h2 class=\"module_title\">\n         You Might Also Like\n        </h2>\n       </header>\n       <section>\n        <script>\n         $(document).ready(function(){\n    $(\".features\").slick({\n      dots: false,\n      infinite: true,\n      speed: 300,\n      slide: '.features .slide',\n      slidesToShow: 3,\n      slidesToScroll: 3,\n      lazyLoad: 'ondemand',\n      centerMode: false,\n      arrows: true,\n      appendArrows: '.features .slick-nav',\n      appendDots: \".features .slick-nav\",\n      responsive: [{\"breakpoint\":953,\"settings\":{\"slidesToShow\":2,\"slidesToScroll\":2,\"centerMode\":false}},{\"breakpoint\":480,\"settings\":{\"slidesToShow\":1,\"slidesToScroll\":1,\"centerMode\":true,\"arrows\":false,\"centerPadding\":\"25px\"}}]\n    });\n  });\n        </script>\n        <div class=\"features\">\n         <div class=\"slide\">\n          <div class=\"image_and_description_container\">\n           <a href=\"/news/8659/alabama-high-school-student-names-nasas-mars-helicopter/\">\n            <div class=\"rollover_description\">\n             <div class=\"rollover_description_inner\">\n              Vaneeza Rupani's essay was chosen as the name for the small spacecraft, which will mark NASA's first attempt at powered flight on another planet.\n             </div>\n             <div class=\"overlay_arrow\">\n              <img alt=\"More\" src=\"/assets/overlay-arrow.png\"/>\n             </div>\n            </div>\n            <img alt=\"Alabama High School Student Names NASA's Mars Helicopter\" class=\"img-lazy\" data-lazy=\"/system/news_items/list_view_images/8659_1-PIA23883-MAIN-320x240.jpg\" src=\"/assets/loading_320x240.png\"/>\n           </a>\n          </div>\n          <div class=\"content_title\">\n           <a href=\"/news/8659/alabama-high-school-student-names-nasas-mars-helicopter/\">\n            Alabama High School Student Names NASA's Mars Helicopter\n           </a>\n          </div>\n         </div>\n         <div class=\"slide\">\n          <div class=\"image_and_description_container\">\n           <a href=\"/news/8645/mars-helicopter-attached-to-nasas-perseverance-rover/\">\n            <div class=\"rollover_description\">\n             <div class=\"rollover_description_inner\">\n              The team also fueled the rover's sky crane to get ready for this summer's history-making launch.\n             </div>\n             <div class=\"overlay_arrow\">\n              <img alt=\"More\" src=\"/assets/overlay-arrow.png\"/>\n             </div>\n            </div>\n            <img alt=\"Mars Helicopter Attached to NASA's Perseverance Rover\" class=\"img-lazy\" data-lazy=\"/system/news_items/list_view_images/8645_PIA23824-RoverWithHelicopter-32x24.jpg\" src=\"/assets/loading_320x240.png\"/>\n           </a>\n          </div>\n          <div class=\"content_title\">\n           <a href=\"/news/8645/mars-helicopter-attached-to-nasas-perseverance-rover/\">\n            Mars Helicopter Attached to NASA's Perseverance Rover\n           </a>\n          </div>\n         </div>\n         <div class=\"slide\">\n          <div class=\"image_and_description_container\">\n           <a href=\"/news/8641/nasas-perseverance-mars-rover-gets-its-wheels-and-air-brakes/\">\n            <div class=\"rollover_description\">\n             <div class=\"rollover_description_inner\">\n              After the rover was shipped from JPL to Kennedy Space Center, the team is getting closer to finalizing the spacecraft for launch later this summer.\n             </div>\n             <div class=\"overlay_arrow\">\n              <img alt=\"More\" src=\"/assets/overlay-arrow.png\"/>\n             </div>\n            </div>\n            <img alt=\"NASA's Perseverance Mars Rover Gets Its Wheels and Air Brakes\" class=\"img-lazy\" data-lazy=\"/system/news_items/list_view_images/8641_PIA-23821-320x240.jpg\" src=\"/assets/loading_320x240.png\"/>\n           </a>\n          </div>\n          <div class=\"content_title\">\n           <a href=\"/news/8641/nasas-perseverance-mars-rover-gets-its-wheels-and-air-brakes/\">\n            NASA's Perseverance Mars Rover Gets Its Wheels and Air Brakes\n           </a>\n          </div>\n         </div>\n         <div class=\"slide\">\n          <div class=\"image_and_description_container\">\n           <a href=\"/news/8634/109-million-names-now-aboard-nasas-perseverance-mars-rover/\">\n            <div class=\"rollover_description\">\n             <div class=\"rollover_description_inner\">\n              As part of NASA's 'Send Your Name to Mars' campaign, they've been stenciled onto three microchips along with essays from NASA's 'Name the Rover' contest. Next stop: Mars.\n             </div>\n             <div class=\"overlay_arrow\">\n              <img alt=\"More\" src=\"/assets/overlay-arrow.png\"/>\n             </div>\n            </div>\n            <img alt=\"10.9 Million Names Now Aboard NASA's Perseverance Mars Rover\" class=\"img-lazy\" data-lazy=\"/system/news_items/list_view_images/8634_PIA23769-320x240.jpg\" src=\"/assets/loading_320x240.png\"/>\n           </a>\n          </div>\n          <div class=\"content_title\">\n           <a href=\"/news/8634/109-million-names-now-aboard-nasas-perseverance-mars-rover/\">\n            10.9 Million Names Now Aboard NASA's Perseverance Mars Rover\n           </a>\n          </div>\n         </div>\n         <div class=\"slide\">\n          <div class=\"image_and_description_container\">\n           <a href=\"/news/8622/virginia-middle-school-student-earns-honor-of-naming-nasas-next-mars-rover/\">\n            <div class=\"rollover_description\">\n             <div class=\"rollover_description_inner\">\n              NASA chose a seventh-grader from Virginia as winner of the agency's \"Name the Rover\" essay contest. Alexander Mather's entry for \"Perseverance\" was voted tops among 28,000 entries.\n             </div>\n             <div class=\"overlay_arrow\">\n              <img alt=\"More\" src=\"/assets/overlay-arrow.png\"/>\n             </div>\n            </div>\n            <img alt=\"Virginia Middle School Student Earns Honor of Naming NASA's Next Mars Rover\" class=\"img-lazy\" data-lazy=\"/system/news_items/list_view_images/8622_1-PIA23764-RoverNamePlateonMars-320x240.jpg\" src=\"/assets/loading_320x240.png\"/>\n           </a>\n          </div>\n          <div class=\"content_title\">\n           <a href=\"/news/8622/virginia-middle-school-student-earns-honor-of-naming-nasas-next-mars-rover/\">\n            Virginia Middle School Student Earns Honor of Naming NASA's Next Mars Rover\n           </a>\n          </div>\n         </div>\n         <div class=\"slide\">\n          <div class=\"image_and_description_container\">\n           <a href=\"/news/8606/nasa-prepares-for-moon-and-mars-with-new-addition-to-its-deep-space-network/\">\n            <div class=\"rollover_description\">\n             <div class=\"rollover_description_inner\">\n              Robotic spacecraft will be able to communicate with the dish using radio waves and lasers.\n             </div>\n             <div class=\"overlay_arrow\">\n              <img alt=\"More\" src=\"/assets/overlay-arrow.png\"/>\n             </div>\n            </div>\n            <img alt=\"NASA Prepares for Moon and Mars With New Addition to Its Deep Space Network\" class=\"img-lazy\" data-lazy=\"/system/news_items/list_view_images/8606_list_image.jpg\" src=\"/assets/loading_320x240.png\"/>\n           </a>\n          </div>\n          <div class=\"content_title\">\n           <a href=\"/news/8606/nasa-prepares-for-moon-and-mars-with-new-addition-to-its-deep-space-network/\">\n            NASA Prepares for Moon and Mars With New Addition to Its Deep Space Network\n           </a>\n          </div>\n         </div>\n         <div class=\"grid_layout\">\n          <div class=\"slick-nav_container\">\n           <div class=\"slick-nav\">\n           </div>\n          </div>\n         </div>\n        </div>\n       </section>\n      </div>\n     </section>\n    </div>\n    <footer id=\"site_footer\">\n     <div class=\"grid_layout\">\n      <section class=\"upper_footer\">\n       <div class=\"share_newsletter_container\">\n        <div class=\"newsletter\">\n         <h2>\n          Get the Mars Newsletter\n         </h2>\n         <form action=\"/newsletter-subscribe\">\n          <input id=\"email\" name=\"email\" placeholder=\"enter email address\" type=\"email\" value=\"\"/>\n          <input data-disable-with=\"\" name=\"commit\" type=\"submit\" value=\"\"/>\n         </form>\n        </div>\n        <div class=\"share\">\n         <h2>\n          Follow the Journey\n         </h2>\n         <div class=\"social_icons\">\n          <!-- AddThis Button BEGIN -->\n          <div class=\"addthis_toolbox addthis_default_style addthis_32x32_style\">\n           <a addthis:userid=\"MarsCuriosity\" class=\"addthis_button_twitter_follow icon\">\n            <img alt=\"twitter\" src=\"/assets/twitter_icon@2x.png\"/>\n           </a>\n           <a addthis:userid=\"MarsCuriosity\" class=\"addthis_button_facebook_follow icon\">\n            <img alt=\"facebook\" src=\"/assets/facebook_icon@2x.png\"/>\n           </a>\n           <a addthis:userid=\"nasa\" class=\"addthis_button_instagram_follow icon\">\n            <img alt=\"instagram\" src=\"/assets/instagram_icon@2x.png\"/>\n           </a>\n           <a addthis:url=\"https://mars.nasa.gov/rss/api/?feed=news&amp;category=all&amp;feedtype=rss\" class=\"addthis_button_rss_follow icon\">\n            <img alt=\"rss\" src=\"/assets/rss_icon@2x.png\"/>\n           </a>\n          </div>\n         </div>\n         <script src=\"//s7.addthis.com/js/300/addthis_widget.js#pubid=ra-5a690e4c1320e328\">\n         </script>\n        </div>\n       </div>\n       <div class=\"gradient_line\">\n       </div>\n      </section>\n      <section class=\"sitemap\">\n       <div class=\"sitemap_directory\" id=\"sitemap_directory\">\n        <div class=\"sitemap_block\">\n         <div class=\"footer_sitemap_item\">\n          <h3 class=\"sitemap_title\">\n           <a href=\"/#red_planet\">\n            The Red Planet\n           </a>\n          </h3>\n          <ul>\n           <li>\n            <div class=\"global_subnav_container\">\n             <ul class=\"subnav\">\n              <li>\n               <a href=\"/#red_planet/0\" target=\"_self\">\n                Dashboard\n               </a>\n              </li>\n              <li>\n               <a href=\"/#red_planet/1\" target=\"_self\">\n                Science Goals\n               </a>\n              </li>\n              <li>\n               <a href=\"/#red_planet/2\" target=\"_self\">\n                The Planet\n               </a>\n              </li>\n              <li>\n               <a href=\"/#red_planet/3\" target=\"_self\">\n                Atmosphere\n               </a>\n              </li>\n              <li>\n               <a href=\"/#red_planet/4\" target=\"_self\">\n                Astrobiology\n               </a>\n              </li>\n              <li>\n               <a href=\"/#red_planet/5\" target=\"_self\">\n                Past, Present, Future, Timeline\n               </a>\n              </li>\n             </ul>\n            </div>\n           </li>\n          </ul>\n         </div>\n        </div>\n        <div class=\"sitemap_block\">\n         <div class=\"footer_sitemap_item\">\n          <h3 class=\"sitemap_title\">\n           <a href=\"/#mars_exploration_program\">\n            The Program\n           </a>\n          </h3>\n          <ul>\n           <li>\n            <div class=\"global_subnav_container\">\n             <ul class=\"subnav\">\n              <li>\n               <a href=\"/#mars_exploration_program/0\" target=\"_self\">\n                Mission Statement\n               </a>\n              </li>\n              <li>\n               <a href=\"/#mars_exploration_program/1\" target=\"_self\">\n                About the Program\n               </a>\n              </li>\n              <li>\n               <a href=\"/#mars_exploration_program/2\" target=\"_self\">\n                Organization\n               </a>\n              </li>\n              <li>\n               <a href=\"/#mars_exploration_program/3\" target=\"_self\">\n                Why Mars?\n               </a>\n              </li>\n              <li>\n               <a href=\"/#mars_exploration_program/4\" target=\"_self\">\n                Research Programs\n               </a>\n              </li>\n              <li>\n               <a href=\"/#mars_exploration_program/5\" target=\"_self\">\n                Planetary Resources\n               </a>\n              </li>\n              <li>\n               <a href=\"/#mars_exploration_program/6\" target=\"_self\">\n                Technologies\n               </a>\n              </li>\n             </ul>\n            </div>\n           </li>\n          </ul>\n         </div>\n        </div>\n        <div class=\"sitemap_block\">\n         <div class=\"footer_sitemap_item\">\n          <h3 class=\"sitemap_title\">\n           <a href=\"/#news_and_events\">\n            News &amp; Events\n           </a>\n          </h3>\n          <ul>\n           <li>\n            <div class=\"global_subnav_container\">\n             <ul class=\"subnav\">\n              <li class=\"current\">\n               <a href=\"/news\" target=\"_self\">\n                News\n               </a>\n              </li>\n              <li>\n               <a href=\"/events\" target=\"_self\">\n                Events\n               </a>\n              </li>\n             </ul>\n            </div>\n           </li>\n          </ul>\n         </div>\n        </div>\n        <div class=\"sitemap_block\">\n         <div class=\"footer_sitemap_item\">\n          <h3 class=\"sitemap_title\">\n           <a href=\"/#multimedia\">\n            Multimedia\n           </a>\n          </h3>\n          <ul>\n           <li>\n            <div class=\"global_subnav_container\">\n             <ul class=\"subnav\">\n              <li>\n               <a href=\"/multimedia/images/\" target=\"_self\">\n                Images\n               </a>\n              </li>\n              <li>\n               <a href=\"/multimedia/videos/\" target=\"_self\">\n                Videos\n               </a>\n              </li>\n              <li>\n               <a href=\"/multimedia/more-resources/\" target=\"_self\">\n                More Resources\n               </a>\n              </li>\n             </ul>\n            </div>\n           </li>\n          </ul>\n         </div>\n        </div>\n        <div class=\"sitemap_block\">\n         <div class=\"footer_sitemap_item\">\n          <h3 class=\"sitemap_title\">\n           <a href=\"/#missions_gallery_subnav\">\n            Missions\n           </a>\n          </h3>\n          <ul>\n           <li>\n            <div class=\"global_subnav_container\">\n             <ul class=\"subnav\">\n              <li>\n               <a href=\"/mars-exploration/missions/?category=167\" target=\"_self\">\n                Past\n               </a>\n              </li>\n              <li>\n               <a href=\"/mars-exploration/missions/?category=170\" target=\"_self\">\n                Present\n               </a>\n              </li>\n              <li>\n               <a href=\"/mars-exploration/missions/?category=171\" target=\"_self\">\n                Future\n               </a>\n              </li>\n              <li>\n               <a href=\"/mars-exploration/partners\" target=\"_self\">\n                International Partners\n               </a>\n              </li>\n             </ul>\n            </div>\n           </li>\n          </ul>\n         </div>\n        </div>\n        <div class=\"sitemap_block\">\n         <div class=\"footer_sitemap_item\">\n          <h3 class=\"sitemap_title\">\n           <a href=\"/#more\">\n            More\n           </a>\n          </h3>\n          <ul>\n           <li>\n            <div class=\"global_subnav_container\">\n             <ul class=\"subnav\">\n             </ul>\n            </div>\n           </li>\n          </ul>\n         </div>\n        </div>\n       </div>\n       <div class=\"gradient_line\">\n       </div>\n      </section>\n      <section class=\"lower_footer\">\n       <div class=\"nav_container\">\n        <nav>\n         <ul>\n          <li>\n           <a href=\"http://science.nasa.gov/\" target=\"_blank\">\n            NASA Science Mission Directorate\n           </a>\n          </li>\n          <li>\n           <a href=\"https://www.jpl.nasa.gov/copyrights.php\" target=\"_blank\">\n            Privacy\n           </a>\n          </li>\n          <li>\n           <a href=\"http://www.jpl.nasa.gov/imagepolicy/\" target=\"_blank\">\n            Image Policy\n           </a>\n          </li>\n          <li>\n           <a href=\"https://mars.nasa.gov/feedback/\" target=\"_self\">\n            Feedback\n           </a>\n          </li>\n         </ul>\n        </nav>\n       </div>\n       <div class=\"credits\">\n        <div class=\"footer_brands_top\">\n         <p>\n          Managed by the Mars Exploration Program and the Jet Propulsion Laboratory for NASA’s Science Mission Directorate\n         </p>\n        </div>\n        <!-- .footer_brands -->\n        <!-- %a.jpl{href: \"\", target: \"_blank\"}Institution -->\n        <!-- -->\n        <!-- %a.caltech{href: \"\", target: \"_blank\"}Institution -->\n        <!-- .staff -->\n        <!-- %p -->\n        <!-- - get_staff_for_category(get_field_from_admin_config(:web_staff_category_id)) -->\n        <!-- - @staff.each_with_index do |staff, idx| -->\n        <!-- - unless staff.is_in_footer == 0 -->\n        <!-- = staff.title + \": \" -->\n        <!-- - if staff.contact_link =~ /@/ -->\n        <!-- = mail_to staff.contact_link, staff.name, :subject => \"[#{@site_title}]\" -->\n        <!-- - elsif staff.contact_link.present? -->\n        <!-- = link_to staff.name, staff.contact_link -->\n        <!-- - else -->\n        <!-- = staff.name -->\n        <!-- - unless (idx + 1 == @staff.size) -->\n        <!-- %br -->\n       </div>\n      </section>\n     </div>\n    </footer>\n   </div>\n  </div>\n  <script id=\"_fed_an_ua_tag\" src=\"https://dap.digitalgov.gov/Universal-Federated-Analytics-Min.js?agency=NASA&amp;subagency=JPL-Mars-MEPJPL&amp;pua=UA-9453474-9,UA-118212757-11&amp;dclink=true&amp;sp=searchbox&amp;exts=tif,tiff,wav\" type=\"text/javascript\">\n  </script>\n </body>\n</html>\n\n"
    }
   ],
   "source": [
    "print(nm_soup.prettify())"
   ]
  },
  {
   "cell_type": "code",
   "execution_count": 13,
   "metadata": {},
   "outputs": [],
   "source": [
    "#hl_title = soup.body.find_all('div', class_=\"content_title\")\n",
    "nmhl_title = nm_soup.body.find('div', class_=\"content_title\")"
   ]
  },
  {
   "cell_type": "code",
   "execution_count": 15,
   "metadata": {},
   "outputs": [
    {
     "output_type": "stream",
     "name": "stdout",
     "text": "Alabama High School Student Names NASA's Mars Helicopter\n"
    }
   ],
   "source": [
    "#for x in range (len(hl_title)):\n",
    "print(nmhl_title.text.strip())"
   ]
  },
  {
   "cell_type": "code",
   "execution_count": 17,
   "metadata": {},
   "outputs": [
    {
     "output_type": "stream",
     "name": "stdout",
     "text": "/news/8659/alabama-high-school-student-names-nasas-mars-helicopter/\n"
    }
   ],
   "source": [
    "# Get the URI for the top story\n",
    "\n",
    "# Test out for loop to get all hrefs for content title\n",
    "#soup.body.find_all('div', class_=\"content_title\").find_all('a', href= True)\n",
    "#for hl in hl_title:\n",
    "#    print(hl.find('a')['href'])\n",
    "# Get the \n",
    "ts_uri = nmhl_title.find('a')['href']\n",
    "\n",
    "print(ts_uri)"
   ]
  },
  {
   "cell_type": "code",
   "execution_count": 89,
   "metadata": {},
   "outputs": [
    {
     "output_type": "stream",
     "name": "stdout",
     "text": "https://mars.nasa.gov/news/8659/alabama-high-school-student-names-nasas-mars-helicopter/\n"
    }
   ],
   "source": [
    "ts_url = base_url+ts_uri\n",
    "print(ts_url)"
   ]
  },
  {
   "cell_type": "code",
   "execution_count": 90,
   "metadata": {},
   "outputs": [],
   "source": [
    "# create another soup instance to get data for headline\n",
    "\n",
    "ts_resp = requests.get(ts_url)"
   ]
  },
  {
   "cell_type": "code",
   "execution_count": 91,
   "metadata": {},
   "outputs": [],
   "source": [
    "ts_soup = bs(ts_resp.text, 'html.parser')"
   ]
  },
  {
   "cell_type": "code",
   "execution_count": 92,
   "metadata": {
    "tags": [
     "outputPrepend"
    ]
   },
   "outputs": [
    {
     "output_type": "stream",
     "name": "stdout",
     "text": "y=\"14\" fill=\"#fff\" fill-opacity=\".1\" fill-rule=\"nonzero\" r=\"14\" stroke=\"inherit\" stroke-width=\"1\">\n    </circle>\n    <path class=\"the_plus\" d=\"m18.856 12.96v1.738h-4.004v3.938h-1.848v-3.938h-4.004v-1.738h4.004v-3.96h1.848v3.96z\" fill=\"inherit\" stroke-width=\"0\">\n    </path>\n   </g>\n  </symbol>\n  <symbol height=\"30\" id=\"circle_arrow\" viewbox=\"0 0 30 30\" width=\"30\" xmlns=\"http://www.w3.org/2000/svg\">\n   <g transform=\"translate(1 1)\">\n    <circle cx=\"14\" cy=\"14\" fill=\"#fff\" fill-opacity=\".1\" r=\"14\" stroke=\"inherit\" stroke-width=\"1\">\n    </circle>\n    <path class=\"the_arrow\" d=\"m8.5 15.00025h7.984l-2.342 2.42c-.189.197-.189.518 0 .715l.684.717c.188.197.494.197.684 0l4.35-4.506c.188-.199.188-.52 0-.717l-4.322-4.48c-.189-.199-.496-.199-.684 0l-.684.716c-.189.197-.189.519 0 .716l2.341 2.419h-8.011c-.276 0-.5.223-.5.5v1c0 .275.224.5.5.5z\" fill=\"inherit\" stroke-width=\"0\">\n    </path>\n   </g>\n  </symbol>\n  <symbol height=\"30\" id=\"circle_close\" viewbox=\"0 0 30 30\" width=\"30\">\n   <g fill-rule=\"evenodd\" transform=\"translate(1 1)\">\n    <circle cx=\"14\" cy=\"14\" fill=\"blue\" fill-opacity=\"1\" fill-rule=\"nonzero\" r=\"14\" stroke=\"inherit\" stroke-width=\"1\">\n    </circle>\n    <path class=\"the_plus\" d=\"m18.856 12.96v1.738h-4.004v3.938h-1.848v-3.938h-4.004v-1.738h4.004v-3.96h1.848v3.96z\" fill=\"inherit\" stroke-width=\"0\">\n    </path>\n   </g>\n  </symbol>\n  <symbol height=\"30\" id=\"circle_close_hover\" viewbox=\"0 0 30 30\" width=\"30\">\n   <g fill-rule=\"evenodd\" transform=\"translate(1 1)\">\n    <circle cx=\"14\" cy=\"14\" fill=\"white\" fill-opacity=\"1\" fill-rule=\"nonzero\" r=\"14\" stroke=\"inherit\" stroke-width=\"1\">\n    </circle>\n    <path class=\"the_plus\" d=\"m18.856 12.96v1.738h-4.004v3.938h-1.848v-3.938h-4.004v-1.738h4.004v-3.96h1.848v3.96z\" fill=\"inherit\" stroke-width=\"0\">\n    </path>\n   </g>\n  </symbol>\n  <symbol height=\"6\" id=\"chevron_down\" viewbox=\"0 0 10 6\" width=\"10\" xmlns=\"http://www.w3.org/2000/svg\">\n   <path d=\"m59 7v2.72727273l5 3.27272727 5-3.27272727v-2.72727273l-5 3.2727273z\" transform=\"translate(-59 -7)\">\n   </path>\n  </symbol>\n  <symbol height=\"16\" id=\"gear\" viewbox=\"0 0 16 16\" width=\"16\" xmlns=\"http://www.w3.org/2000/svg\">\n   <path d=\"m68 9h-1.09c-.15-.91-.5-1.75-1.021-2.471l.761-.77c.39-.39.39-1.029 0-1.42-.391-.39-1.021-.39-1.41 0l-.771.77c-.719-.519-1.469-.869-2.469-1.019v-1.09c0-.55-.45-1-1-1s-1 .45-1 1v1.09c-1 .15-1.75.5-2.47 1.02l-.77-.77c-.389-.39-1.029-.39-1.42 0-.39.391-.39 1.03 0 1.42l.771.77c-.521.72-.871 1.56-1.021 2.47h-1.09c-.55 0-1 .48-1 1.029 0 .551.45.971 1.12.971h.97c.15.91.5 1.75 1.021 2.471l-.771.769c-.39.39-.39 1.029 0 1.42.391.39 1.021.39 1.41 0l.78-.77c.72.52 1.47.87 2.47 1.02v1.09c0 .55.45 1 1 1s1-.45 1-1v-1.09c1-.15 1.75-.5 2.47-1.02l.771.77c.391.39 1.02.39 1.41 0 .39-.391.39-1.03 0-1.42l-.761-.76c.51-.72.87-1.56 1.02-2.48h1.09c.55 0 1-.45 1-1s-.45-1-1-1zm-7 4c-1.66 0-3-1.35-3-3s1.34-3 3-3c1.65 0 3 1.35 3 3s-1.35 3-3 3z\" fill=\"#a79693\" transform=\"translate(-53 -2)\">\n   </path>\n  </symbol>\n </svg>\n <div data-react-cache-id=\"BrowseHappier-0\" data-react-class=\"BrowseHappier\" data-react-props='{\"gt\":1,\"lt\":11}'>\n </div>\n <div data-react-cache-id=\"HiPO-0\" data-react-class=\"HiPO\" data-react-props=\"{}\">\n </div>\n <div id=\"main_container\">\n  <div id=\"site_body\">\n   <div class=\"site_header_area\">\n    <header class=\"site_header\">\n     <div class=\"brand_area\">\n      <div class=\"brand1\">\n       <a class=\"nasa_logo\" href=\"http://www.nasa.gov\" target=\"_blank\" title=\"visit nasa.gov\">\n        NASA\n       </a>\n      </div>\n      <div class=\"brand2\">\n       <a class=\"top_logo\" href=\"https://science.nasa.gov/\" target=\"_blank\" title=\"Explore NASA Science\">\n        NASA Science\n       </a>\n       <a class=\"sub_logo\" href=\"/mars-exploration/#\" title=\"Mars\">\n        Mars Exploration Program\n       </a>\n      </div>\n      <img alt=\"\" class=\"print_only print_logo\" src=\"/assets/logo_mars_trio_black@2x.png\"/>\n     </div>\n     <a class=\"visuallyhidden focusable\" href=\"#page\">\n      Skip Navigation\n     </a>\n     <div class=\"right_header_container\">\n      <a class=\"menu_button\" href=\"javascript:void(0);\" id=\"menu_button\">\n       <span class=\"menu_icon\">\n        menu\n       </span>\n      </a>\n      <a class=\"modal_close\" id=\"modal_close\">\n       <span class=\"modal_close_icon\">\n       </span>\n      </a>\n      <div class=\"nav_area\">\n       <div id=\"site_nav_container\">\n        <nav class=\"site_nav\" data-react-cache-id=\"Meganav-0\" data-react-class=\"Meganav\" data-react-props=\"{&quot;nav_items&quot;:[{&quot;name&quot;:&quot;Mars Now&quot;,&quot;style&quot;:&quot;icon&quot;,&quot;li_class&quot;:&quot;nav_icon mars_now&quot;,&quot;target&quot;:&quot;_self&quot;,&quot;link&quot;:&quot;/explore/mars-now&quot;,&quot;svg_icon_id&quot;:&quot;nav_icon&quot;,&quot;id&quot;:261,&quot;features&quot;:[{&quot;title&quot;:&quot;Mars Now&quot;,&quot;body&quot;:&quot;View a 3D visualization of all the missions exploring the Red Planet&quot;,&quot;image_src&quot;:&quot;/system/basic_html_elements/225_mars_now_nav.jpg&quot;,&quot;link&quot;:&quot;/explore/mars-now/&quot;,&quot;target&quot;:&quot;_self&quot;,&quot;categories&quot;:[]}],&quot;title&quot;:&quot;&quot;,&quot;short_description&quot;:&quot;View the current location and spacecraft communications activity of operating landers, rovers and orbiters using the NASA’s Mars Relay Network.&quot;},{&quot;name&quot;:&quot;The Red Planet&quot;,&quot;link&quot;:&quot;/#red_planet&quot;,&quot;target&quot;:&quot;_self&quot;,&quot;sections&quot;:[{&quot;items&quot;:[{&quot;name&quot;:&quot;Dashboard&quot;,&quot;link&quot;:&quot;/#red_planet/0&quot;,&quot;target&quot;:&quot;_self&quot;,&quot;id&quot;:9},{&quot;name&quot;:&quot;Science Goals&quot;,&quot;link&quot;:&quot;/#red_planet/1&quot;,&quot;target&quot;:&quot;_self&quot;,&quot;id&quot;:13},{&quot;name&quot;:&quot;The Planet&quot;,&quot;link&quot;:&quot;/#red_planet/2&quot;,&quot;target&quot;:&quot;_self&quot;,&quot;id&quot;:14},{&quot;name&quot;:&quot;Atmosphere&quot;,&quot;link&quot;:&quot;/#red_planet/3&quot;,&quot;target&quot;:&quot;_self&quot;,&quot;id&quot;:16},{&quot;name&quot;:&quot;Astrobiology&quot;,&quot;link&quot;:&quot;/#red_planet/4&quot;,&quot;target&quot;:&quot;_self&quot;,&quot;id&quot;:17},{&quot;name&quot;:&quot;Past, Present, Future, Timeline&quot;,&quot;link&quot;:&quot;/#red_planet/5&quot;,&quot;target&quot;:&quot;_self&quot;,&quot;id&quot;:18}]}],&quot;id&quot;:3,&quot;meganav_style&quot;:&quot;&quot;,&quot;features&quot;:[],&quot;short_description&quot;:null},{&quot;name&quot;:&quot;The Program&quot;,&quot;link&quot;:&quot;/#mars_exploration_program&quot;,&quot;target&quot;:&quot;_self&quot;,&quot;sections&quot;:[{&quot;items&quot;:[{&quot;name&quot;:&quot;Mission Statement&quot;,&quot;link&quot;:&quot;/#mars_exploration_program/0&quot;,&quot;target&quot;:&quot;_self&quot;,&quot;id&quot;:8},{&quot;name&quot;:&quot;About the Program&quot;,&quot;link&quot;:&quot;/#mars_exploration_program/1&quot;,&quot;target&quot;:&quot;_self&quot;,&quot;id&quot;:42},{&quot;name&quot;:&quot;Organization&quot;,&quot;link&quot;:&quot;/#mars_exploration_program/2&quot;,&quot;target&quot;:&quot;_self&quot;,&quot;id&quot;:43},{&quot;name&quot;:&quot;Why Mars?&quot;,&quot;link&quot;:&quot;/#mars_exploration_program/3&quot;,&quot;target&quot;:&quot;_self&quot;,&quot;id&quot;:51},{&quot;name&quot;:&quot;Research Programs&quot;,&quot;link&quot;:&quot;/#mars_exploration_program/4&quot;,&quot;target&quot;:&quot;_self&quot;,&quot;id&quot;:44},{&quot;name&quot;:&quot;Planetary Resources&quot;,&quot;link&quot;:&quot;/#mars_exploration_program/5&quot;,&quot;target&quot;:&quot;_self&quot;,&quot;id&quot;:52},{&quot;name&quot;:&quot;Technologies&quot;,&quot;link&quot;:&quot;/#mars_exploration_program/6&quot;,&quot;target&quot;:&quot;_self&quot;,&quot;id&quot;:56}]}],&quot;id&quot;:2,&quot;meganav_style&quot;:&quot;&quot;,&quot;features&quot;:[],&quot;short_description&quot;:null},{&quot;name&quot;:&quot;News \\u0026 Events&quot;,&quot;link&quot;:&quot;/#news_and_events&quot;,&quot;target&quot;:&quot;_self&quot;,&quot;sections&quot;:[{&quot;items&quot;:[{&quot;name&quot;:&quot;News&quot;,&quot;link&quot;:&quot;/news&quot;,&quot;target&quot;:&quot;_self&quot;,&quot;id&quot;:92},{&quot;name&quot;:&quot;Events&quot;,&quot;link&quot;:&quot;/events&quot;,&quot;target&quot;:&quot;_self&quot;,&quot;id&quot;:93}]}],&quot;id&quot;:4,&quot;meganav_style&quot;:&quot;&quot;,&quot;features&quot;:[],&quot;short_description&quot;:null},{&quot;name&quot;:&quot;Multimedia&quot;,&quot;link&quot;:&quot;/#multimedia&quot;,&quot;target&quot;:&quot;_self&quot;,&quot;sections&quot;:[{&quot;items&quot;:[{&quot;name&quot;:&quot;Images&quot;,&quot;link&quot;:&quot;/multimedia/images/&quot;,&quot;target&quot;:&quot;_self&quot;,&quot;id&quot;:90},{&quot;name&quot;:&quot;Videos&quot;,&quot;link&quot;:&quot;/multimedia/videos/&quot;,&quot;target&quot;:&quot;_self&quot;,&quot;id&quot;:91},{&quot;name&quot;:&quot;More Resources&quot;,&quot;link&quot;:&quot;/multimedia/more-resources/&quot;,&quot;target&quot;:&quot;_self&quot;,&quot;id&quot;:413}]}],&quot;id&quot;:5,&quot;meganav_style&quot;:&quot;&quot;,&quot;features&quot;:[],&quot;short_description&quot;:null},{&quot;name&quot;:&quot;Missions&quot;,&quot;link&quot;:&quot;/#missions_gallery_subnav&quot;,&quot;target&quot;:&quot;_self&quot;,&quot;sections&quot;:[{&quot;items&quot;:[{&quot;name&quot;:&quot;Past&quot;,&quot;link&quot;:&quot;/mars-exploration/missions/?category=167&quot;,&quot;target&quot;:&quot;_self&quot;,&quot;id&quot;:38},{&quot;name&quot;:&quot;Present&quot;,&quot;link&quot;:&quot;/mars-exploration/missions/?category=170&quot;,&quot;target&quot;:&quot;_self&quot;,&quot;id&quot;:59},{&quot;name&quot;:&quot;Future&quot;,&quot;link&quot;:&quot;/mars-exploration/missions/?category=171&quot;,&quot;target&quot;:&quot;_self&quot;,&quot;id&quot;:60},{&quot;name&quot;:&quot;International Partners&quot;,&quot;link&quot;:&quot;/mars-exploration/partners&quot;,&quot;target&quot;:&quot;_self&quot;,&quot;id&quot;:40}]}],&quot;id&quot;:6,&quot;meganav_style&quot;:&quot;&quot;,&quot;features&quot;:[],&quot;short_description&quot;:null},{&quot;name&quot;:&quot;More&quot;,&quot;link&quot;:&quot;/#more&quot;,&quot;target&quot;:&quot;_self&quot;,&quot;sections&quot;:[],&quot;id&quot;:7,&quot;meganav_style&quot;:&quot;&quot;,&quot;features&quot;:[],&quot;short_description&quot;:null}],&quot;gallery_subnav_items&quot;:[{&quot;thumb&quot;:&quot;/system/missions/list_view_images/23_PIA23764-RoverNamePlateonMars-320x240.jpg&quot;,&quot;id&quot;:23,&quot;title&quot;:&quot;Mars 2020 Perseverance Rover&quot;,&quot;description&quot;:&quot;A mission to investigate key questions about potential life on Mars. &quot;,&quot;date&quot;:&quot;July 17, 2020&quot;,&quot;url&quot;:&quot;/mars-exploration/missions/mars2020/&quot;,&quot;link_text&quot;:&quot;&quot;,&quot;target&quot;:&quot;_blank&quot;,&quot;mi_traveled&quot;:null,&quot;gallery_subnav_link&quot;:&quot;https://mars.nasa.gov/mars2020/&quot;},{&quot;thumb&quot;:&quot;/system/missions/list_view_images/2_PIA14175-thmfeat.jpg&quot;,&quot;id&quot;:2,&quot;title&quot;:&quot;Curiosity Rover&quot;,&quot;description&quot;:&quot;The largest and most capable rover ever sent to Mars.&quot;,&quot;date&quot;:&quot;November 26, 2011&quot;,&quot;url&quot;:&quot;/mars-exploration/missions/mars-science-laboratory&quot;,&quot;link_text&quot;:&quot;&quot;,&quot;target&quot;:&quot;_blank&quot;,&quot;mi_traveled&quot;:13.73,&quot;gallery_subnav_link&quot;:&quot;https://mars.nasa.gov/msl/home/&quot;},{&quot;thumb&quot;:&quot;/system/missions/list_view_images/21_PIA22743-320x240.jpg&quot;,&quot;id&quot;:21,&quot;title&quot;:&quot;InSight Lander&quot;,&quot;description&quot;:&quot;A mission to study the deep interior of Mars. &quot;,&quot;date&quot;:&quot;November 26, 2018&quot;,&quot;url&quot;:&quot;/mars-exploration/missions/insight/&quot;,&quot;link_text&quot;:&quot;&quot;,&quot;target&quot;:&quot;_blank&quot;,&quot;mi_traveled&quot;:null,&quot;gallery_subnav_link&quot;:&quot;https://mars.nasa.gov/insight/&quot;},{&quot;thumb&quot;:&quot;/system/missions/list_view_images/6_maven_320x240.jpg&quot;,&quot;id&quot;:6,&quot;title&quot;:&quot;MAVEN&quot;,&quot;description&quot;:&quot;Measures Mars' atmosphere to understand its climate change.&quot;,&quot;date&quot;:&quot;November 18, 2013&quot;,&quot;url&quot;:&quot;/mars-exploration/missions/maven&quot;,&quot;link_text&quot;:&quot;&quot;,&quot;target&quot;:&quot;_blank&quot;,&quot;mi_traveled&quot;:null,&quot;gallery_subnav_link&quot;:&quot;https://mars.nasa.gov/maven/&quot;},{&quot;thumb&quot;:&quot;/system/missions/list_view_images/8_MRO_320x240.jpg&quot;,&quot;id&quot;:8,&quot;title&quot;:&quot;Mars Reconnaissance Orbiter&quot;,&quot;description&quot;:&quot;Takes high-resolution imagery of Martian terrain with extraordinary clarity. &quot;,&quot;date&quot;:&quot;August 12, 2012&quot;,&quot;url&quot;:&quot;/mars-exploration/missions/mars-reconnaissance-orbiter&quot;,&quot;link_text&quot;:&quot;&quot;,&quot;target&quot;:&quot;_blank&quot;,&quot;mi_traveled&quot;:null,&quot;gallery_subnav_link&quot;:&quot;https://mars.nasa.gov/mro/&quot;},{&quot;thumb&quot;:&quot;/system/missions/list_view_images/5_mars_odyssey320x240.jpg&quot;,&quot;id&quot;:5,&quot;title&quot;:&quot;2001 Mars Odyssey&quot;,&quot;description&quot;:&quot;NASA's longest-lasting spacecraft at Mars. &quot;,&quot;date&quot;:&quot;April  7, 2001&quot;,&quot;url&quot;:&quot;/mars-exploration/missions/odyssey&quot;,&quot;link_text&quot;:&quot;&quot;,&quot;target&quot;:&quot;_blank&quot;,&quot;mi_traveled&quot;:null,&quot;gallery_subnav_link&quot;:&quot;https://mars.nasa.gov/odyssey/&quot;}],&quot;search&quot;:true,&quot;search_placeholder&quot;:{&quot;placeholder&quot;:&quot;&quot;},&quot;highlight_current&quot;:{&quot;highlight&quot;:true,&quot;current_id&quot;:-1,&quot;parent_ids&quot;:[]},&quot;search_submit&quot;:&quot;/search/&quot;}\">\n        </nav>\n       </div>\n      </div>\n     </div>\n    </header>\n   </div>\n   <div id=\"sticky_nav_spacer\">\n   </div>\n   <div id=\"page\">\n    <div class=\"page_cover\">\n    </div>\n    <script>\n     $(document).ready(function(){\n    var search_cookie = mb_utils.readCookie(\"news_items_gl_news\")\n    if (search_cookie){\n      var ct_href = $('.category_title a').attr(\"href\")\n      $('.category_title a').attr(\"href\", ct_href + \"?\" + search_cookie)\n    }\n  })\n    </script>\n    <script src=\"//s7.addthis.com/js/300/addthis_widget.js#pubid=ra-5a690e4c1320e328\">\n    </script>\n    <div data-react-cache-id=\"ArticleNav-0\" data-react-class=\"ArticleNav\" data-react-props='{\"id\":8659,\"subsite\":null,\"model\":\"news_items\"}'>\n    </div>\n    <div class=\"header_mask\">\n    </div>\n    <section class=\"content_page module\">\n     <article>\n      <div class=\"grid_layout\">\n       <header id=\"page_header\">\n        <h2 class=\"category_title\">\n         <a href=\"/news/\">\n          NEWS\n         </a>\n         <span class=\"release_date\">\n          | April 29, 2020\n         </span>\n        </h2>\n        <h1 class=\"article_title\">\n         Alabama High School Student Names NASA's Mars Helicopter\n        </h1>\n       </header>\n       <div class=\"clearfix\" id=\"primary_column\">\n        <figure class=\"main_image\">\n         <img alt=\"Vaneeza Rupani (inset), a junior at Tuscaloosa County High School in Northport, Alabama, came up with the name Ingenuity for NASA's Mars Helicopter (an artist's impression of which is seen here) and the motivation behind it during NASA's &quot;Name the Rover&quot; essay contest. \" id=\"main_image\" src=\"/system/news_items/main_images/8659_1-PIA23883-MAIN-800w.jpg\"/>\n         <figcaption class=\"main_image_caption\">\n          <p>\n           <b>\n            High School Junior Names NASA's Mars Helicopter\n           </b>\n           : Vaneeza Rupani (inset), a junior at Tuscaloosa County High School in Northport, Alabama, came up with the name Ingenuity for NASA's Mars Helicopter (an artist's impression of which is seen here) and the motivation behind it for NASA's \"\n           <a href=\"https://mars.nasa.gov/news/8508/nasa-invites-students-to-name-mars-2020-rover/\">\n            Name the Rover\n           </a>\n           \" essay contest. Credits: NASA/JPL-Caltech/NIA/Rupani Family.\n           <a href=\"/resources/24932/\">\n            Download image ›\n           </a>\n          </p>\n         </figcaption>\n        </figure>\n        <div class=\"wysiwyg_content\">\n         <hr/>\n         <p>\n          <i>\n           Vaneeza Rupani's essay was chosen as the name for the small spacecraft, which will mark NASA's first attempt at powered flight on another planet.\n          </i>\n         </p>\n         <hr/>\n         <p>\n          Destined to become the first aircraft to attempt powered flight on another planet, NASA's Mars Helicopter officially has received a new name: Ingenuity.\n         </p>\n         <p>\n          Vaneeza Rupani, a junior at Tuscaloosa County High School in Northport, Alabama, came up with the name and the motivation behind it during NASA's \"\n          <a href=\"https://mars.nasa.gov/news/8508/nasa-invites-students-to-name-mars-2020-rover/\">\n           Name the Rover\n          </a>\n          \" essay contest.\n         </p>\n         <p>\n          \"The ingenuity and brilliance of people working hard to overcome the challenges of interplanetary travel are what allow us all to experience the wonders of space exploration,\" Rupani wrote in her contest submission. \"Ingenuity is what allows people to accomplish amazing things, and it allows us to expand our horizons to the edges of the universe.\"\n         </p>\n         <figure class=\"column-width embedded_video video_player_container\">\n          <div class=\"video_wrapper\">\n           <iframe allow=\"accelerometer; autoplay; encrypted-media; gyroscope; picture-in-picture\" allowfullscreen=\"\" frameborder=\"0\" height=\"420\" src=\"https://www.youtube.com/embed/6i-UOl9yTJE?rel=0\" width=\"746\">\n           </iframe>\n          </div>\n          <figcaption>\n           The first aircraft that will attempt powered flight on another world has a new name! Meet Ingenuity – NASA’s Mars Helicopter. And the inspiration for the name? We owe that credit to Vaneeza Rupani, an 11th grader from Northport, Alabama. Credits: NASA/JPL-Caltech\n          </figcaption>\n         </figure>\n         <p>\n          Rupani's was among 28,000 essays submitted to NASA by K-12 students from every U.S. state and territory recommending names for the next Mars rover. In March, the agency announced that\n          <a href=\"https://mars.nasa.gov/news/8622/virginia-middle-school-student-earns-honor-of-naming-nasas-next-mars-rover/\">\n           seventh-grader Alexander Mather's essay\n          </a>\n          earned him the honor of naming the rover Perseverance. But with so many good essays, it seemed fitting to also choose a name for the helicopter that will accompany the rover to Mars. So NASA officials went back to the submitted essays to choose a name for the helicopter. Thomas Zurbuchen, associate administrator of NASA's Science Mission Directorate, made the choice for the rover's name, and NASA Administrator Jim Bridenstine chose the name for the helicopter.\n         </p>\n         <p>\n          <div class=\"column-width image_module\" style=\"\">\n           <figure class=\"inline_figure\">\n            <a href=\"/resources/24933/2-pia23882-2nd-image/\" target=\"_self\">\n             <img alt=\"Mars Helicopter\" src=\"/system/resources/detail_files/24933_2-PIA23882-2nd-800w.jpg\"/>\n            </a>\n            <figcaption>\n             <b>\n              NASA's Ingenuity Mars Helicopter\n             </b>\n             : The flight model of NASA's Ingenuity Mars Helicopter. Credit: NASA/JPL-Caltech.\n             <a href=\"/resources/24933/2-pia23882-2nd-image/\">\n              Full image and caption ›\n             </a>\n             <span>\n             </span>\n            </figcaption>\n           </figure>\n          </div>\n         </p>\n        </div>\n       </div>\n      </div>\n     </article>\n    </section>\n   </div>\n  </div>\n </div>\n</body>\n"
    }
   ],
   "source": [
    "print(ts_soup.body.prettify())"
   ]
  },
  {
   "cell_type": "code",
   "execution_count": 93,
   "metadata": {},
   "outputs": [
    {
     "output_type": "stream",
     "name": "stdout",
     "text": "High School Junior Names NASA's Mars Helicopter: Vaneeza Rupani (inset), a junior at Tuscaloosa County High School in Northport, Alabama, came up with the name Ingenuity for NASA's Mars Helicopter (an artist's impression of which is seen here) and the motivation behind it for NASA's \"Name the Rover\" essay contest. Credits: NASA/JPL-Caltech/NIA/Rupani Family. Download image ›\nVaneeza Rupani's essay was chosen as the name for the small spacecraft, which will mark NASA's first attempt at powered flight on another planet.\nDestined to become the first aircraft to attempt powered flight on another planet, NASA's Mars Helicopter officially has received a new name: Ingenuity.\nVaneeza Rupani, a junior at Tuscaloosa County High School in Northport, Alabama, came up with the name and the motivation behind it during NASA's \"Name the Rover\" essay contest.\n\"The ingenuity and brilliance of people working hard to overcome the challenges of interplanetary travel are what allow us all to experience the wonders of space exploration,\" Rupani wrote in her contest submission. \"Ingenuity is what allows people to accomplish amazing things, and it allows us to expand our horizons to the edges of the universe.\"\nRupani's was among 28,000 essays submitted to NASA by K-12 students from every U.S. state and territory recommending names for the next Mars rover. In March, the agency announced that seventh-grader Alexander Mather's essay earned him the honor of naming the rover Perseverance. But with so many good essays, it seemed fitting to also choose a name for the helicopter that will accompany the rover to Mars. So NASA officials went back to the submitted essays to choose a name for the helicopter. Thomas Zurbuchen, associate administrator of NASA's Science Mission Directorate, made the choice for the rover's name, and NASA Administrator Jim Bridenstine chose the name for the helicopter.\nNASA's Ingenuity Mars Helicopter: The flight model of NASA's Ingenuity Mars Helicopter. Credit: NASA/JPL-Caltech. Full image and caption ›\n\"I am proud that NASA’s Mars Helicopter will be named by Vaneeza Rupani of Northport, Alabama,\" said Sen. Richard Shelby of Alabama. \"This is a unique privilege. Ms. Rupani’s essay on why she chose the name 'Ingenuity' highlights her creativity, originality, and intelligence. Her grasp on the importance of exploration is extraordinary, and I am confident that she has a bright future ahead. Congratulations to Ms. Rupani on being selected for this prestigious honor.\"\nHigh Risk, High Reward\nAs a technology demonstration, Ingenuity is a high-risk, high-reward experiment. The helicopter will ride to Mars attached to the belly of the Perseverance rover, which is preparing for launch in July or August. For several months following the rover's landing, Ingenuity will remain encapsulated in a protective cover to shield it from debris during entry, descent and landing. When the timing in the rover mission is right, Ingenuity will be deployed to stand and operate on its own on the surface of the Red Planet. If the 4-pound (2-kilogram), solar-powered craft — a combination of specially designed components and off-the-shelf parts — survives the cold Martian nights during its pre-flight checkout, the team will proceed with testing.\nIf successful during its 30-Martian-day (31-Earth-day) experimental flight test window, the small craft will prove that powered flight can be achieved at Mars, enabling future Mars missions to better utilize second-generation helicopters to add an aerial dimension to their explorations.\nThe helicopter successfully completed its flight-testing program using the 25-foot space simulation chamber at NASA's Jet Propulsion Laboratory in Southern California. The next flight attempt will be in the actual environment of Mars. And if Ingenuity encounters difficulties, engineers will apply the lessons learned to future technology demonstrations. The science-gathering portion of the Mars 2020 mission will not be impacted.\n\"In the early days of this project, the feasibility of flying at Mars was questioned,\" said MiMi Aung, Mars Helicopter project manager at JPL. \"But today we have a helicopter down at the launch site, installed on the rover and waiting to board the rocket which will carry us to the Red Planet. Like Vaneeza said in her essay, ingenuity and hard work led us to see beyond what was logical to what was possible. Now Ingenuity will have its chance to fly at Mars.\"\nVaneeza Rupani by Her Bookshelf: Vaneeza Rupani, the 11th grader who named the Mars Helicopter (Ingenuity), at home in Northport, Alabama. Credits: Courtesy Rupani Family. Full image and caption ›\nAlong with investigating difficult-to-reach targets, such as cliffs, caves and deep craters, future aircraft could carry small science instruments or act as scouts for human and robotic explorers on Mars or other celestial bodies.\nNASA's Perseverance rover and Ingenuity helicopter are currently undergoing final assembly and checkout at the agency's Kennedy Space Center in Florida. They will launch on a United Launch Alliance Atlas V rocket from Space Launch Complex 41 at nearby Cape Canaveral Air Force Station in July and land at Mars' Jezero Crater on Feb. 18, 2021.\nMembers of the public and media interested in learning more about the Ingenuity helicopter can ask questions on social media using the hashtag #AskNASA. JPL will share some of these questions with Aung, the helicopter project manager, and release a video at 1 p.m. PDT (4 p.m. EDT) today, April 29, with a live moderated chat. The video will premiere at:\nhttps://www.youtube.com/NASAJPL/live\nJPL is building and will manage operations of Perseverance and Ingenuity for the agency. NASA's Launch Services Program, based at Kennedy, is responsible for launch management. Lockheed Martin Space in Boulder, Colorado, provided the Mars Helicopter Delivery System. Caltech in Pasadena, California, manages JPL for NASA.\nThe \"Name the Rover\" contest partnership was part of a Space Act Agreement in educational and public outreach efforts between NASA, Battelle of Columbus, Ohio, and Future Engineers of Burbank, California. Amazon Web Services is an additional prize provider for the contest.\nThe Mars 2020 Perseverance rover mission is part of a larger program that includes missions to the Moon as a way to prepare for human exploration of the Red Planet. Through its Artemis program, NASA intends to land the first woman and the next man on the lunar surface in 2024 and establish a sustained human presence on and around the Moon by 2028, using it as a stepping stone to sending astronauts to Mars.\nFor more information about Ingenuity, go to:\nmars.nasa.gov/technology/helicopter\nA variety of Mars-themed educational resources, including instructions for making a paper Mars helicopter, as well as a Mars helicopter coding video game, are available at:\njpl.nasa.gov/edu/learn/tag/search/Mars\njpl.nasa.gov/edu/teach/tag/search/Mars\njpl.nasa.gov/edu/learning-space\nFor more information about the Mars 2020 mission, go to:\nmars.nasa.gov/mars2020\nFor more about NASA's Moon to Mars plans, visit:\nnasa.gov/topics/moon-to-mars\n\nNews Media Contacts\nGrey Hautaluoma / Alana Johnson\nHeadquarters, Washington\n202-358-0668 / 202-358-1501\ngrey.hautaluoma-1@nasa.gov / alana.r.johnson@nasa.gov\nDC Agle\nJet Propulsion Laboratory, Pasadena, Calif.\n818-393-9011\ndavid.c.agle@jpl.nasa.gov\nAbout the Mars Helicopter ›\n\nQ&A with the student who named Ingenuity ›\n\nMars Helicopter Animations Media Reel ›\n\nMars Helicopter B-Roll for Media ›\nManaged by the Mars Exploration Program and the Jet Propulsion Laboratory for NASA’s Science Mission Directorate\n"
    }
   ],
   "source": [
    "ts_content = ts_soup.find_all('p')\n",
    "for portion in ts_content:\n",
    "    print(portion.text.strip())"
   ]
  },
  {
   "cell_type": "code",
   "execution_count": 131,
   "metadata": {},
   "outputs": [],
   "source": [
    "# Start of JPL Mars Space Images Homework Section\n",
    "\n",
    "jpl_url = \"https://www.jpl.nasa.gov/spaceimages/?search=&category=Mars\"\n",
    "jpl_base_url = \"https://www.jpl.nasa.gov\""
   ]
  },
  {
   "cell_type": "code",
   "execution_count": 123,
   "metadata": {},
   "outputs": [],
   "source": [
    "executable_path = {'executable_path': '/usr/bin/chromedriver'}\n",
    "browser = Browser('chrome', **executable_path, headless=False)"
   ]
  },
  {
   "cell_type": "code",
   "execution_count": 124,
   "metadata": {},
   "outputs": [],
   "source": [
    "browser.visit(jpl_url)"
   ]
  },
  {
   "cell_type": "code",
   "execution_count": 128,
   "metadata": {},
   "outputs": [
    {
     "output_type": "execute_result",
     "data": {
      "text/plain": "<a class=\"button fancybox\" data-description=\"In this rare image taken on July 19, 2013, the wide-angle camera on NASA's Cassini spacecraft has captured Saturn's rings and our planet Earth and its moon in the same frame.\" data-fancybox-group=\"images\" data-fancybox-href=\"/spaceimages/images/mediumsize/PIA17171_ip.jpg\" data-link=\"/spaceimages/details.php?id=PIA17171\" data-title=\"The Day the Earth Smiled: Sneak Preview\" id=\"full_image\">\n\t\t\t\t\tFULL IMAGE\n\t\t\t\t  </a>"
     },
     "metadata": {},
     "execution_count": 128
    }
   ],
   "source": [
    "jpl_html = browser.html\n",
    "jpl_soup = bs(jpl_html, 'html.parser')\n",
    "\n",
    "fi_class = jpl_soup.find('div', class_='carousel_items').find(id='full_image')\n",
    "fi_class"
   ]
  },
  {
   "cell_type": "code",
   "execution_count": 133,
   "metadata": {},
   "outputs": [],
   "source": [
    "fi_uri = fi_class['data-fancybox-href']"
   ]
  },
  {
   "cell_type": "code",
   "execution_count": 134,
   "metadata": {},
   "outputs": [
    {
     "output_type": "execute_result",
     "data": {
      "text/plain": "'https://www.jpl.nasa.gov/spaceimages/images/mediumsize/PIA17171_ip.jpg'"
     },
     "metadata": {},
     "execution_count": 134
    }
   ],
   "source": [
    "featured_image_url = jpl_base_url+fi_uri\n",
    "featured_image_url"
   ]
  },
  {
   "cell_type": "code",
   "execution_count": 182,
   "metadata": {},
   "outputs": [],
   "source": [
    "# Mars Facts Webpage Homework Section\n",
    "\n",
    "mf_url = 'https://space-facts.com/mars/'"
   ]
  },
  {
   "cell_type": "code",
   "execution_count": 183,
   "metadata": {},
   "outputs": [],
   "source": [
    "mf_tables = pd.read_html(mf_url)"
   ]
  },
  {
   "cell_type": "code",
   "execution_count": 184,
   "metadata": {},
   "outputs": [
    {
     "output_type": "execute_result",
     "data": {
      "text/plain": "[                      0                              1\n 0  Equatorial Diameter:                       6,792 km\n 1       Polar Diameter:                       6,752 km\n 2                 Mass:  6.39 × 10^23 kg (0.11 Earths)\n 3                Moons:            2 (Phobos & Deimos)\n 4       Orbit Distance:       227,943,824 km (1.38 AU)\n 5         Orbit Period:           687 days (1.9 years)\n 6  Surface Temperature:                   -87 to -5 °C\n 7         First Record:              2nd millennium BC\n 8          Recorded By:           Egyptian astronomers,\n   Mars - Earth Comparison             Mars            Earth\n 0               Diameter:         6,779 km        12,742 km\n 1                   Mass:  6.39 × 10^23 kg  5.97 × 10^24 kg\n 2                  Moons:                2                1\n 3      Distance from Sun:   227,943,824 km   149,598,262 km\n 4         Length of Year:   687 Earth days      365.24 days\n 5            Temperature:    -153 to 20 °C      -88 to 58°C,\n                       0                              1\n 0  Equatorial Diameter:                       6,792 km\n 1       Polar Diameter:                       6,752 km\n 2                 Mass:  6.39 × 10^23 kg (0.11 Earths)\n 3                Moons:            2 (Phobos & Deimos)\n 4       Orbit Distance:       227,943,824 km (1.38 AU)\n 5         Orbit Period:           687 days (1.9 years)\n 6  Surface Temperature:                   -87 to -5 °C\n 7         First Record:              2nd millennium BC\n 8          Recorded By:           Egyptian astronomers]"
     },
     "metadata": {},
     "execution_count": 184
    }
   ],
   "source": [
    "mf_tables"
   ]
  },
  {
   "cell_type": "code",
   "execution_count": 186,
   "metadata": {},
   "outputs": [
    {
     "output_type": "execute_result",
     "data": {
      "text/plain": "                                              Value\nAttributes                                         \nEquatorial Diameter:                       6,792 km\nPolar Diameter:                            6,752 km\nMass:                 6.39 × 10^23 kg (0.11 Earths)\nMoons:                          2 (Phobos & Deimos)\nOrbit Distance:            227,943,824 km (1.38 AU)",
      "text/html": "<div>\n<style scoped>\n    .dataframe tbody tr th:only-of-type {\n        vertical-align: middle;\n    }\n\n    .dataframe tbody tr th {\n        vertical-align: top;\n    }\n\n    .dataframe thead th {\n        text-align: right;\n    }\n</style>\n<table border=\"1\" class=\"dataframe\">\n  <thead>\n    <tr style=\"text-align: right;\">\n      <th></th>\n      <th>Value</th>\n    </tr>\n    <tr>\n      <th>Attributes</th>\n      <th></th>\n    </tr>\n  </thead>\n  <tbody>\n    <tr>\n      <th>Equatorial Diameter:</th>\n      <td>6,792 km</td>\n    </tr>\n    <tr>\n      <th>Polar Diameter:</th>\n      <td>6,752 km</td>\n    </tr>\n    <tr>\n      <th>Mass:</th>\n      <td>6.39 × 10^23 kg (0.11 Earths)</td>\n    </tr>\n    <tr>\n      <th>Moons:</th>\n      <td>2 (Phobos &amp; Deimos)</td>\n    </tr>\n    <tr>\n      <th>Orbit Distance:</th>\n      <td>227,943,824 km (1.38 AU)</td>\n    </tr>\n  </tbody>\n</table>\n</div>"
     },
     "metadata": {},
     "execution_count": 186
    }
   ],
   "source": [
    "mf_ptable = mf_tables[0]\n",
    "mf_ptable.rename(columns={0:\"Attributes\", 1:\"Value\"}, inplace=True)\n",
    "mf_ptable.set_index(\"Attributes\", inplace=True)\n",
    "mf_ptable.head()"
   ]
  },
  {
   "cell_type": "code",
   "execution_count": 145,
   "metadata": {},
   "outputs": [],
   "source": [
    "mf_ptable.to_html('Output_file/mf_table.html', index=False)"
   ]
  },
  {
   "cell_type": "code",
   "execution_count": 146,
   "metadata": {},
   "outputs": [],
   "source": [
    "# Mars Hemisphere Section of Homework\n",
    "\n",
    "mh_url = 'https://astrogeology.usgs.gov/search/results?q=hemisphere+enhanced&k1=target&v1=Mars'\n",
    "mh_base_url = 'https://astrogeology.usgs.gov'"
   ]
  },
  {
   "cell_type": "code",
   "execution_count": 149,
   "metadata": {},
   "outputs": [],
   "source": [
    "mh_resp = requests.get(mh_url)\n",
    "\n",
    "mh_soup = bs(mh_resp.text, 'html.parser')\n",
    "\n",
    "mh_fi = mh_soup.find()"
   ]
  },
  {
   "cell_type": "code",
   "execution_count": 150,
   "metadata": {},
   "outputs": [],
   "source": [
    "hem_url = [\n",
    "    {\"title\": \"Cerberus Hemisphere\", \"img_url\":\\\n",
    "    \"https://astropedia.astrogeology.usgs.gov/download/Mars/Viking/cerberus_enhanced.tif/full.jpg\"},\n",
    "    {\"title\": \"Schiaparelli Hemisphere\", \"img_url\":\"https://astropedia.astrogeology.usgs.gov/download/Mars/Viking/schiaparelli_enhanced.tif/full.jpg\"},\n",
    "    {\"title\": \"Valles Marineris Hemisphere\", \"img_url\":\"https://astropedia.astrogeology.usgs.gov/download/Mars/Viking/valles_marineris_enhanced.tif/full.jpg\"},\n",
    "    {\"title\": \"Syrtis Major Hemisphere\", \"img_url\": \"https://astropedia.astrogeology.usgs.gov/download/Mars/Viking/syrtis_major_enhanced.tif/full.jpg\"}\n",
    "]"
   ]
  },
  {
   "cell_type": "code",
   "execution_count": null,
   "metadata": {},
   "outputs": [],
   "source": []
  }
 ],
 "metadata": {
  "language_info": {
   "codemirror_mode": {
    "name": "ipython",
    "version": 3
   },
   "file_extension": ".py",
   "mimetype": "text/x-python",
   "name": "python",
   "nbconvert_exporter": "python",
   "pygments_lexer": "ipython3",
   "version": "3.7.6-final"
  },
  "orig_nbformat": 2,
  "kernelspec": {
   "name": "pythondata",
   "display_name": "PythonData"
  }
 },
 "nbformat": 4,
 "nbformat_minor": 2
}